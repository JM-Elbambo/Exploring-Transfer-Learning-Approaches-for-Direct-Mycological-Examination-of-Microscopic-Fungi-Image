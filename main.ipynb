{
 "cells": [
  {
   "cell_type": "code",
   "execution_count": 1,
   "metadata": {},
   "outputs": [],
   "source": [
    "import os\n",
    "\n",
    "import matplotlib.pyplot as plt\n",
    "import numpy as np\n",
    "import tensorflow as tf\n",
    "import tensorflow_hub as hub\n",
    "\n",
    "from tensorflow import keras\n",
    "from tensorflow.keras import layers\n",
    "from tensorflow.keras.models import Sequential\n",
    "\n",
    "BATCH_SIZE = 16\n",
    "IMAGE_SIZE = (256, 256)\n",
    "\n",
    "AUTOTUNE = tf.data.AUTOTUNE"
   ]
  },
  {
   "cell_type": "code",
   "execution_count": 2,
   "metadata": {},
   "outputs": [],
   "source": [
    "def get_train_val_dataset():\n",
    "\t# Get train dataset\n",
    "\ttrain_ds = tf.keras.utils.image_dataset_from_directory(\n",
    "\t\tdirectory = \"Defungi Split/Train\",\n",
    "\t\tbatch_size = BATCH_SIZE,\n",
    "\t\timage_size = IMAGE_SIZE,\n",
    "\t\tseed=27\n",
    "\t\t)\n",
    "\n",
    "\t# Get validation dataset\n",
    "\tval_ds = tf.keras.utils.image_dataset_from_directory(\n",
    "\t\tdirectory = \"Defungi Split/Validation\",\n",
    "\t\tbatch_size = BATCH_SIZE,\n",
    "\t\timage_size = IMAGE_SIZE,\n",
    "\t\tseed=27\n",
    "\t\t)\n",
    "\t\n",
    "\treturn train_ds, val_ds\n"
   ]
  },
  {
   "cell_type": "code",
   "execution_count": 3,
   "metadata": {},
   "outputs": [],
   "source": [
    "def get_test_dataset():\n",
    "\t# Get train dataset\n",
    "\ttest_ds = tf.keras.utils.image_dataset_from_directory(\n",
    "\t\tdirectory = \"Defungi Split/Test\",\n",
    "\t\tbatch_size = BATCH_SIZE,\n",
    "\t\timage_size = IMAGE_SIZE,\n",
    "\t\tseed=27\n",
    "\t\t)\n",
    "\n",
    "\treturn test_ds\n"
   ]
  },
  {
   "cell_type": "code",
   "execution_count": 4,
   "metadata": {},
   "outputs": [],
   "source": [
    "def train_model(model, train_dataset, validation_dataset, epochs = 50, initial_epoch = 0, epochs_per_checkpoint = 5,\n",
    "\t\tload_checkpoint: str = None, save_checkpoint_folder = \"checkpoints\"):\n",
    "\t\n",
    "\t# Get dataset info\n",
    "\tbatch_count = len(train_ds)\n",
    "\n",
    "\t# Load checkpoint if any\n",
    "\tif load_checkpoint:\n",
    "\t\tmodel.load_weights(load_checkpoint)\n",
    "\t\n",
    "\t# Create checkpoint callback\n",
    "\tsave_checkpoint_path = save_checkpoint_folder + \"/cp-{epoch:04d}.ckpt\"\n",
    "\tmodel1_cp_callback = tf.keras.callbacks.ModelCheckpoint(filepath=save_checkpoint_path, save_weights_only=True, save_freq=epochs_per_checkpoint*batch_count, verbose=1)\n",
    "\n",
    "\t# Train the model\n",
    "\tmodel.fit(\n",
    "\t\ttrain_dataset,\n",
    "\t\tvalidation_data=validation_dataset,\n",
    "\t\tinitial_epoch=initial_epoch,\n",
    "\t\tepochs=epochs,\n",
    "\t\tcallbacks=[model1_cp_callback],\n",
    "\t\tuse_multiprocessing=True\n",
    "\t)\n"
   ]
  },
  {
   "cell_type": "code",
   "execution_count": 5,
   "metadata": {},
   "outputs": [],
   "source": [
    "def get_base_model(num_classes, checkpoint_path: str = None):\n",
    "\t# Import pre-trained model\n",
    "\tos.environ['TFHUB_CACHE_DIR'] = 'tf_cache'\n",
    "\tfeature_extractor_model = \"https://tfhub.dev/google/imagenet/efficientnet_v2_imagenet1k_b2/feature_vector/2\"\n",
    "\tfeature_extractor_layer = hub.KerasLayer(\n",
    "\t\tfeature_extractor_model,\n",
    "\t\tinput_shape=IMAGE_SIZE+(3,),\n",
    "\t\ttrainable=False)\n",
    "\t\n",
    "\t# Create model\n",
    "\tmodel = Sequential([\n",
    "\t\tlayers.Rescaling(1./255, input_shape=(IMAGE_SIZE[0], IMAGE_SIZE[1], 3)),\n",
    "\t\tfeature_extractor_layer,\n",
    "\t\tlayers.Flatten(),\n",
    "\t\tlayers.Dense(num_classes)])\n",
    "\tmodel.compile(optimizer='adam',\n",
    "\t\t\t\tloss=tf.keras.losses.SparseCategoricalCrossentropy(from_logits=True),\n",
    "\t\t\t\tmetrics=['accuracy'])\n",
    "\tmodel.summary()\n",
    "\n",
    "\t# Load checkpoint if any\n",
    "\tif checkpoint_path:\n",
    "\t\tmodel.load_weights(checkpoint_path)\n",
    "\n",
    "\treturn model\n"
   ]
  },
  {
   "cell_type": "code",
   "execution_count": 6,
   "metadata": {},
   "outputs": [
    {
     "name": "stdout",
     "output_type": "stream",
     "text": [
      "Found 6377 files belonging to 5 classes.\n",
      "Found 1364 files belonging to 5 classes.\n",
      "Model: \"sequential\"\n",
      "_________________________________________________________________\n",
      " Layer (type)                Output Shape              Param #   \n",
      "=================================================================\n",
      " rescaling (Rescaling)       (None, 256, 256, 3)       0         \n",
      "                                                                 \n",
      " keras_layer (KerasLayer)    (None, 1408)              8769374   \n",
      "                                                                 \n",
      " flatten (Flatten)           (None, 1408)              0         \n",
      "                                                                 \n",
      " dense (Dense)               (None, 5)                 7045      \n",
      "                                                                 \n",
      "=================================================================\n",
      "Total params: 8,776,419\n",
      "Trainable params: 7,045\n",
      "Non-trainable params: 8,769,374\n",
      "_________________________________________________________________\n",
      "Found 1373 files belonging to 5 classes.\n",
      "86/86 [==============================] - 93s 1s/step - loss: 0.5009 - accuracy: 0.8063\n"
     ]
    },
    {
     "data": {
      "text/plain": [
       "[0.5008724331855774, 0.8062636852264404]"
      ]
     },
     "execution_count": 6,
     "metadata": {},
     "output_type": "execute_result"
    }
   ],
   "source": [
    "train_ds, val_ds = get_train_val_dataset()\n",
    "\n",
    "class_names = train_ds.class_names\n",
    "num_classes = len(class_names)\n",
    "\n",
    "# Configure datasets for optimization\n",
    "train_ds = train_ds.cache().prefetch(buffer_size=AUTOTUNE)\n",
    "val_ds = val_ds.cache().prefetch(buffer_size=AUTOTUNE)\n",
    "\n",
    "# Create base model\n",
    "base_model = get_base_model(num_classes, \"checkpoints/base-model/cp-0050.ckpt\")\n",
    "\n",
    "# Load from checkpoint\n",
    "# train_model(base_model, train_ds, val_ds, 50, 0, 5, \"LOAD_CHECKPOINT\", \"checkpoints/base-model\")\n",
    "\n",
    "test_ds = get_test_dataset()\n",
    "test_ds = test_ds.cache().prefetch(buffer_size=AUTOTUNE)\n",
    "\n",
    "\n",
    "base_model.evaluate(test_ds)"
   ]
  }
 ],
 "metadata": {
  "kernelspec": {
   "display_name": "venv",
   "language": "python",
   "name": "python3"
  },
  "language_info": {
   "codemirror_mode": {
    "name": "ipython",
    "version": 3
   },
   "file_extension": ".py",
   "mimetype": "text/x-python",
   "name": "python",
   "nbconvert_exporter": "python",
   "pygments_lexer": "ipython3",
   "version": "3.10.8"
  },
  "orig_nbformat": 4
 },
 "nbformat": 4,
 "nbformat_minor": 2
}
